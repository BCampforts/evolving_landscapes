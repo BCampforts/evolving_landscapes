{
 "cells": [
  {
   "cell_type": "markdown",
   "id": "8ebb86cb",
   "metadata": {},
   "source": [
    "<a href=\"https://csdms.colorado.edu\"><img style=\"float: center; width: 75%\" src=\"https://raw.githubusercontent.com/csdms/ivy/main/media/logo.png\"></a>"
   ]
  },
  {
   "cell_type": "markdown",
   "id": "2f1aba6f-1e74-45ce-9cfe-edbc68cedb48",
   "metadata": {},
   "source": [
    "# Hillslope diffusion\n",
    "\n",
    "Experimental work (see lectures Dr. Roda Boluda) has shown that soil is transported down hillslopes through diffusive processes. In the following, we will apply the diffusion equation to tackle some questions related to hillslope transport. "
   ]
  },
  {
   "cell_type": "markdown",
   "id": "43856871-49e6-4232-8467-bedd91282d5c",
   "metadata": {},
   "source": [
    "## Normal fault \n",
    "\n",
    "Let's start by simulating the evolution of topography along a normal fault. \n",
    "Create a 1D hillslope of 100 m with a footwall from 0 to 50 m (at the left side of the domain) sitting at 25 m above sea level (0 m) and a hanging wall between 50 and 100 m (at the right) sitting at sea level. Assume spatial steps (dx) of 100 m. Plot the resulting initial topography. "
   ]
  },
  {
   "cell_type": "code",
   "execution_count": null,
   "id": "2874458a",
   "metadata": {},
   "outputs": [],
   "source": []
  },
  {
   "cell_type": "markdown",
   "id": "a61f57b2",
   "metadata": {},
   "source": [
    "In a next step, we will evolve this landscape feature assuming diffusive hillslope processes. Use the code developed in the diffusion notebook to help you solving this problem. Note that $C$ (concentration) is now changed in $z$ (topography). Run the solution for 300, 500, 1000 and 10000 years. Use a diffusion constant of 0.1 $m^2/yr$. Calculate a stable time step to run this solution. Plot the resulting elevation and add the initial topography to the plots. Describe what you see. Note that we do not touch the boundaries of the solution, which are fixed in time. Hence this solution evolves to an outcome 'imposed by the boundary conditions. What happens if we set the left and right boundary conditions to zero? "
   ]
  },
  {
   "cell_type": "code",
   "execution_count": null,
   "id": "f0ccfaa1",
   "metadata": {},
   "outputs": [],
   "source": []
  },
  {
   "cell_type": "code",
   "execution_count": null,
   "id": "dbe8876a",
   "metadata": {},
   "outputs": [],
   "source": [
    "\n"
   ]
  },
  {
   "cell_type": "markdown",
   "id": "478aa23f",
   "metadata": {},
   "source": [
    "In the next step, we will insert uplift in the system to make it more realistic. Write down the Partial differential equation you will be solving: "
   ]
  },
  {
   "cell_type": "markdown",
   "id": "b2df04f2",
   "metadata": {},
   "source": [
    "$$  \\frac{\\partial z}{\\partial t} = D\\frac{\\partial^2 z}{\\partial x^2}   + U \\label{eq:1}\\tag{1} $$\n"
   ]
  },
  {
   "cell_type": "markdown",
   "id": "b76df01d",
   "metadata": {},
   "source": [
    "Assume an uplift rate of 10 $mm/yr$. This is the rate at which the footwall goes up (equivalent to dropping the hanging wall). Use the same diffusion constant of 0.1 $m^2/yr$.  Plot the result and describe what you see. "
   ]
  },
  {
   "cell_type": "code",
   "execution_count": null,
   "id": "6ed0dc88",
   "metadata": {},
   "outputs": [],
   "source": []
  },
  {
   "cell_type": "markdown",
   "id": "f4f5e2e7",
   "metadata": {},
   "source": [
    "Now, let's consider a 2D hillslope that experiences uplift everywhere, except at the boundaries (z[0] = 0 and z[-1]=0). Assume a hillslope of 100m and a diffusion coefficient of 0.1 $m^2/yr$. How long does it take till steady state? Describe how the hillslope profile looks like at steady state. Calculate erosion steady state. Inspect the values (run 'ero') in a cell to print the output or use the print(ero) statement. If you plot erosion, limit the y-axes values on the axis between 0 and 0.2. "
   ]
  },
  {
   "cell_type": "code",
   "execution_count": null,
   "id": "b65feba0",
   "metadata": {},
   "outputs": [],
   "source": []
  },
  {
   "cell_type": "code",
   "execution_count": null,
   "id": "48c13fb8",
   "metadata": {},
   "outputs": [],
   "source": [
    "\n"
   ]
  },
  {
   "cell_type": "markdown",
   "id": "aafd907a",
   "metadata": {},
   "source": [
    "### Exercise\n",
    "Use this code to answer the following question: \n",
    "1. What happens with the shape of the hillslope under various uplift rates (U= 0.0001, 0.001, 0.01) and various values of the diffusion coefficient? Try to plot all (or at least several) model outcomes on the same plot. Make a legend to clarify results (plt.legend())"
   ]
  },
  {
   "cell_type": "code",
   "execution_count": null,
   "id": "0b6d8dcb",
   "metadata": {},
   "outputs": [],
   "source": []
  },
  {
   "cell_type": "code",
   "execution_count": null,
   "id": "dc84becf",
   "metadata": {},
   "outputs": [],
   "source": []
  }
 ],
 "metadata": {
  "kernelspec": {
   "display_name": "Python 3 (ipykernel)",
   "language": "python",
   "name": "python3"
  },
  "language_info": {
   "codemirror_mode": {
    "name": "ipython",
    "version": 3
   },
   "file_extension": ".py",
   "mimetype": "text/x-python",
   "name": "python",
   "nbconvert_exporter": "python",
   "pygments_lexer": "ipython3",
   "version": "3.11.3"
  }
 },
 "nbformat": 4,
 "nbformat_minor": 5
}
