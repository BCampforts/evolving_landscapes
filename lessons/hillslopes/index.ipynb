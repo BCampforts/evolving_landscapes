{
 "cells": [
  {
   "cell_type": "markdown",
   "metadata": {},
   "source": [
    "<a href=\"https://csdms.colorado.edu\"><img style=\"float: center; width: 75%\" src=\"https://raw.githubusercontent.com/BCampforts/evolving_landscapes/main/media/evolving_landscapes.png\"></a>"
   ]
  },
  {
   "cell_type": "markdown",
   "metadata": {},
   "source": [
    "# Hillslope evolution \n",
    "\n",
    "This notebook is developed by Benjamin Campforts and builds of notebooks designed by CSDMS for the Landlab project and the ESPiN modeling school. Especially contributions of Gregory Tucker and Nicole Gasparini are used in this tutorial. See e.g. [here](https://github.com/landlab/landlab/blob/master/notebooks/tutorials/landscape_evolution/smooth_threshold_eroder/stream_power_smooth_threshold_eroder.ipynb) and [here](https://github.com/landlab/landlab/blob/master/notebooks/teaching/geomorphology_exercises/channels_streampower_notebooks/stream_power_channels_class_notebook.ipynb). \n",
    "\n",
    "## Theory\n",
    "\n",
    "Hillslope processes can be represented with the diffusion equation. \n",
    "In the following notebooks, we will (i) develop a numerical solution for the diffusion equation and (ii) apply it this to the evolution of hillslopes. "
   ]
  },
  {
   "cell_type": "markdown",
   "metadata": {},
   "source": [
    "\n",
    "## Topics for today:\n",
    "1. [A general solution for the diffusion equation](diffusion.ipynb)\n",
    "1. [Hillslope evolution with the diffusion equation](hillslope_diffusion.ipynb)"
   ]
  },
  {
   "cell_type": "markdown",
   "metadata": {},
   "source": []
  },
  {
   "cell_type": "code",
   "execution_count": null,
   "metadata": {},
   "outputs": [],
   "source": []
  }
 ],
 "metadata": {
  "kernelspec": {
   "display_name": "Python 3 (ipykernel)",
   "language": "python",
   "name": "python3"
  },
  "language_info": {
   "codemirror_mode": {
    "name": "ipython",
    "version": 3
   },
   "file_extension": ".py",
   "mimetype": "text/x-python",
   "name": "python",
   "nbconvert_exporter": "python",
   "pygments_lexer": "ipython3",
   "version": "3.11.3"
  }
 },
 "nbformat": 4,
 "nbformat_minor": 4
}
