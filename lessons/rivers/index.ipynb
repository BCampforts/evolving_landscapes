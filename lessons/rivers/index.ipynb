{
 "cells": [
  {
   "cell_type": "markdown",
   "metadata": {},
   "source": [
    "<a href=\"https://csdms.colorado.edu\"><img style=\"float: center; width: 75%\" src=\"https://raw.githubusercontent.com/BCampforts/evolving_landscapes/main/media/evolving_landscapes.png\"></a>"
   ]
  },
  {
   "cell_type": "markdown",
   "metadata": {},
   "source": [
    "# River incision\n",
    "\n",
    "This notebook is developed by Benjamin Campforts and builds of notebooks designed CSDMS for the Landlab project. Especially contributions of Gregory Tucker and Nicole Gasparini are used in this tutorial. See e.g. [here](https://github.com/landlab/landlab/blob/master/notebooks/tutorials/landscape_evolution/smooth_threshold_eroder/stream_power_smooth_threshold_eroder.ipynb) and [here](https://github.com/landlab/landlab/blob/master/notebooks/teaching/geomorphology_exercises/channels_streampower_notebooks/stream_power_channels_class_notebook.ipynb). \n",
    "\n",
    "## Theory\n",
    "\n",
    "The detachment limited equation is as follows: Consider a location on a stream channel that has local downstream slope gradient $S$ and drainage area $A$. We define an erosion $E$ as:\n",
    "\n",
    "$$E = KA^mS^n \\label{eq:1}\\tag{1} $$\n",
    "\n",
    "where $K$ is an erodibility coefficient with dimensions of $[L^{(1-2m)}/T]$. $K$ is thought to be positively correlated with climate wetness, or storminess (this is hard to quantify) and to be negatively correlated with rock strength (again, rock strength is hard to quantify). $A$ is drainage area and $S$ is the slope.  The erosion function has dimensions of erosion (lowering) rate, [L/T]. The expression is also known as the \"stream power law\" because the exponents can be configured to represent an erosion law that depends on stream power per unit bed area (Whipple & Tucker, 1999). A common choice of exponents is $m=1/2$, $n=1$, but other combinations are possible depending on one's assumptions about process, hydrology, channel geometry, and other factors (e.g., Howard et al., 1994; Whipple et al., 2000).\n",
    "\n",
    "\n",
    "Rewriting Fluvial incision as a change of elevation in time, we get: \n",
    "\n",
    "$$  \\frac{d z}{d t} = -E $$\n",
    "\n",
    "or inserting Eq. $\\ref{eq:1}$: \n",
    "\n",
    "\n",
    "$$  \\frac{d z}{d t} = -KA^mS^n  \\label{eq:3}\\tag{3} $$\n",
    "\n",
    "Rewriting $S$ as the slope of steepest descent ($-\\frac{dz}{dx}$) where $x$ is horizontal distance (positive in the downslope direction) and $z$ is elevation results in the following partial differential equation: \n",
    "\n",
    "$$  \\frac{\\partial z}{\\partial t} = -KA^m\\left(\\frac{\\partial z}{\\partial x}\\right)^n  \\label{eq:4}\\tag{4} $$\n",
    "\n",
    "\n",
    "Let's consider a case where the slope parameter ($n$) equals 1 and where uplift is zero. Moreover, we assume that fluvial discharge is constant, implying that $KA^m$ will be a constant, say $v$. How does the equation look like? \n",
    "\n",
    "$$  \\frac{\\partial z}{\\partial t} = -v\\frac{\\partial z}{\\partial x} \\label{eq:5}\\tag{5} $$\n",
    "\n",
    "We can reformulate this equation into the well known advection equation as:  \n",
    "\n",
    "$$  \\frac{\\partial z}{\\partial t} + v\\frac{\\partial z}{\\partial x} =0\\label{eq:6}\\tag{6} $$"
   ]
  },
  {
   "cell_type": "markdown",
   "metadata": {},
   "source": [
    "# Solutions to detachment limited fluvial incision \n",
    "\n",
    "## River incision topics:\n",
    "1. [A general solution for the advection equation](advection.ipynb)\n",
    "1. [Fluvial incision with the advection equation](fluvial_advection.ipynb)\n",
    "1. [Stream power law](stream_power_law.ipynb)"
   ]
  },
  {
   "cell_type": "markdown",
   "metadata": {},
   "source": [
    "# References\n",
    "\n",
    "Howard, A. D., Dietrich, W. E., & Seidl, M. A. (1994). Modeling fluvial erosion on regional to continental scales. Journal of Geophysical Research: Solid Earth, 99(B7), 13971-13986.\n",
    "\n",
    "Tucker, G. E., & Hancock, G. R. (2010). Modelling landscape evolution. Earth Surface Processes and Landforms, 35(1), 28–50. https://doi.org/10.1002/esp.1952\n",
    "\n",
    "Whipple, K. X., Hancock, G. S., & Anderson, R. S. (2000). River incision into bedrock: Mechanics and relative efficacy of plucking, abrasion, and cavitation. Geological Society of America Bulletin, 112(3), 490-503.\n",
    "\n",
    "Whipple, K. X., & Tucker, G. E. (1999). Dynamics of the stream‐power river incision model: Implications for height limits of mountain ranges, landscape response timescales, and research needs. Journal of Geophysical Research: Solid Earth, 104(B8), 17661-17674.\n"
   ]
  },
  {
   "cell_type": "code",
   "execution_count": null,
   "metadata": {},
   "outputs": [],
   "source": []
  }
 ],
 "metadata": {
  "kernelspec": {
   "display_name": "Python 3 (ipykernel)",
   "language": "python",
   "name": "python3"
  },
  "language_info": {
   "codemirror_mode": {
    "name": "ipython",
    "version": 3
   },
   "file_extension": ".py",
   "mimetype": "text/x-python",
   "name": "python",
   "nbconvert_exporter": "python",
   "pygments_lexer": "ipython3",
   "version": "3.11.3"
  }
 },
 "nbformat": 4,
 "nbformat_minor": 4
}
