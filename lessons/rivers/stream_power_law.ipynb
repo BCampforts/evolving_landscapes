{
 "cells": [
  {
   "cell_type": "markdown",
   "metadata": {},
   "source": [
    "<a href=\"https://csdms.colorado.edu\"><img style=\"float: center; width: 75%\" src=\"./media/niag.png\"></a>"
   ]
  },
  {
   "cell_type": "markdown",
   "metadata": {},
   "source": [
    "## Towards the sream power law\n",
    "\n",
    "Niagara falls are advecting over a relatively short river segment where discharge can be considered constant. This is not the case for all rivers where discharge typically increases as a power function of distance downstream. \n",
    "Create a new longitudinal river profile. This time, make the river 100km long and 75m high, except for the outlet of the river (last node of array) which is the boundary condition and can be fixed to 0. \n",
    "\n",
    "\n",
    "The detachment limited equation is as follows: Consider a location on a stream channel that has local downstream slope gradient $S$ and drainage area $A$. We define an erosion $E$ as:\n",
    "\n",
    "$$E = KA^mS^n \\label{eq:1}\\tag{1} $$\n",
    "\n",
    "where $K$ is an erodibility coefficient with dimensions of $[L^{(1-2m)}/T]$. $K$ is thought to be positively correlated with climate wetness, or storminess (this is hard to quantify) and to be negatively correlated with rock strength (again, rock strength is hard to quantify). $A$ is drainage area and $S$ is the slope.  The erosion function has dimensions of erosion (lowering) rate, [L/T]. The expression is also known as the \"stream power law\" because the exponents can be configured to represent an erosion law that depends on stream power per unit bed area (Whipple & Tucker, 1999). A common choice of exponents is $m=1/2$, $n=1$, but other combinations are possible depending on one's assumptions about process, hydrology, channel geometry, and other factors (e.g., Howard et al., 1994; Whipple et al., 2000).\n",
    "\n",
    "Rewriting Fluvial incision as a change of elevation in time, we get: \n",
    "\n",
    "$$  \\frac{d z}{d t} = -E \\label{eq:2}\\tag{2} $$\n",
    "\n",
    "or inserting Eq. $\\ref{eq:1}$: \n",
    "\n",
    "\n",
    "$$  \\frac{d z}{d t} = -KA^mS^n  \\label{eq:3}\\tag{3} $$\n",
    "\n",
    "Rewriting $S$ as the slope of steepest descent ($-\\frac{dz}{dx}$) where $x$ is horizontal distance (positive in the downslope direction) and $z$ is elevation results in the following partial differential equation: \n",
    "\n",
    "$$  \\frac{\\partial z}{\\partial t} = -KA^m\\left(\\frac{\\partial z}{\\partial x}\\right)^n  \\label{eq:4}\\tag{4} $$\n"
   ]
  },
  {
   "cell_type": "markdown",
   "metadata": {},
   "source": [
    "### Numerical solution \n",
    "\n",
    "Can you come up with a numerical solution for the stream power law? \n",
    "Start from the solution of developed with a constant velocity ($v$, in Niagara falls examples)\n",
    "\n",
    "##### Part 1\n",
    "Use the following conditions to simulate fluvial incision: \n",
    "\n",
    "* Simulate a river of 15 km \n",
    "* Use spatial steps ($dx$) of 100 m \n",
    "* Start with a river profile, similar to the one use for Niagara falls (river at 70m elevation except for base level, sitting at 0 m) \n",
    "* Assume that discharge ($A$) is a power function of distance with an exponent of 1.5 $(A = x^{1.5})$. It would be unrealistic to have zero discharge at the upmost cell. To correct for this, represent discharge as  $A = x^{1.5} + dx$.\n",
    "\n",
    "Plot the original topograpghy and drainage area along the river profile\n",
    "\n",
    "\n",
    "##### Part 2\n",
    "Simulate fluvial incision for a period of 10kyr. \n",
    "\n",
    "* Set the area exponent $m$ to 0.5 and the slope exponent $n$ to 1. \n",
    "* Use of value of $5\\times10^{-4}$ 1/yr for $K$. \n",
    "* calculate, $v$, the advection speed, for all the cells of the river. Note that v is changing with distance along the fluvial profile. \n",
    "* Can you define a stable time step (Hint the maximal stable timestep can be calculated using the formulate derived in the Niagara falls notebook, yet this time adjust it using the values of the variable velocity $v$). \n",
    "* Adjust the numerical solver you developed for Niagara falls by using variable advection speeds. You can name it e.g. 'advection_solver_variable_velocity'\n",
    "* Assume a fixed boundary condition of $z=0$ at the outlet where $A=max(A)$ \n",
    "\n"
   ]
  },
  {
   "cell_type": "code",
   "execution_count": null,
   "metadata": {},
   "outputs": [],
   "source": [
    "# Import python packages"
   ]
  },
  {
   "cell_type": "code",
   "execution_count": null,
   "metadata": {},
   "outputs": [],
   "source": [
    "# def advection_solver_variable_velocity(T_num,v,dt,dx,run_duration):\n"
   ]
  },
  {
   "cell_type": "code",
   "execution_count": null,
   "metadata": {},
   "outputs": [],
   "source": [
    "# nb_cells = 151\n",
    "# L = 15000\n",
    "# dx = L / (nb_cells-1)\n",
    "# print('dx is %i m'%dx)\n",
    "\n",
    "# x=...\n",
    "# z=...\n",
    "# z[-1]= 0\n",
    "# plt.plot(x,z)\n",
    "# plt.show()\n",
    "# A = ...\n",
    "# plt.plot(x,A)\n",
    "# plt.show()\n",
    "\n",
    "# K = ...\n",
    "# v=...\n",
    "\n",
    "# dt = ...\n",
    "# print('dt is %.02f year'%dt)\n",
    "\n",
    "\n",
    "# run_duration = 10000\n",
    "# z_num = advection_solver_variable_velocity(z,v,dt,dx,run_duration)\n",
    "# plt.plot(x,z_num)\n"
   ]
  },
  {
   "cell_type": "markdown",
   "metadata": {},
   "source": [
    "## Geological timescales \n",
    "* What happens if you simulate fluvial incsion for 100 kyr? "
   ]
  },
  {
   "cell_type": "markdown",
   "metadata": {},
   "source": []
  },
  {
   "cell_type": "markdown",
   "metadata": {},
   "source": [
    "We miss an ingredient to create realistic looking landscapes obeying to the concept: 'what goes up must come down'. \n",
    "Following mass conservation (see Tucker and Hancock, 2010) the change of elevation ($z$) in the landscape can be written as: \n",
    "\n",
    "$$  \\frac{d z}{d t} = -E + U \\label{eq:5}\\tag{5} $$\n",
    "\n",
    "or inserting Eq. $\\ref{eq:1}$: \n",
    "\n",
    "\n",
    "$$  \\frac{d z}{d t} = -KA^mS^n  + U \\label{eq:6}\\tag{6} $$\n",
    "\n",
    "Rewriting $S$ as the slope of steepest descent ($-\\frac{dz}{dx}$) where $x$ is horizontal distance (positive in the downslope direction) and $z$ is elevation results in the following partial differential equation: \n",
    "\n",
    "$$  \\frac{\\partial z}{\\partial t} = -KA^m\\left(\\frac{\\partial z}{\\partial x}\\right)^n  + U \\label{eq:7}\\tag{7} $$\n"
   ]
  },
  {
   "cell_type": "markdown",
   "metadata": {},
   "source": [
    "### Adjusting fluvial incision to be mass conservative\n",
    "* Can you find a way to insert uplift in the solution? \n",
    "* Once again, adjust the numerical solver. This time, you can name it: 'stream_power_solver'\n",
    "\n",
    "Variables:\n",
    "* Use the same dimensions and constants as above\n",
    "* Assume an uplift rate of 1 m per Myr\n",
    "* Assume a fixed boundary condition of $z=0$ at the outlet where $A=max(A)$ \n",
    "\n",
    "\n",
    "### Questions\n",
    "What happens after 10 kyr? 100 kyr? 1 Myr? "
   ]
  },
  {
   "cell_type": "code",
   "execution_count": null,
   "metadata": {},
   "outputs": [],
   "source": [
    "# def stream_power_solver(T_num,v,dt,dx,run_duration,U):\n"
   ]
  },
  {
   "cell_type": "code",
   "execution_count": null,
   "metadata": {},
   "outputs": [],
   "source": []
  },
  {
   "cell_type": "markdown",
   "metadata": {},
   "source": [
    "### Equilibrium\n",
    "\n",
    "* Use the existing functions to determine when the process between uplift an erosion approaches an equilibrium. Note that at equilibrium, topography does not change through time. \n",
    "* Derive the analytical solution for the steady state topography. At steady state, we know: \n",
    "$$  \\frac{d z}{d t} = 0 $$\n",
    "Derive the value analytical for the slope at steady state.\n",
    "* Compare the analytical value of the slope with the numerically derived one. How do they compare? \n",
    "* Hint: this is best visible on a log-log plot with Drainage area $A$ on the x-axes and Slope $S$ on the y-axes. Use a plot to show the numerical results and add the analytical ones using a scatter plot. \n"
   ]
  },
  {
   "cell_type": "markdown",
   "metadata": {},
   "source": [
    "Calculate analytical solution for slope in steady state\n",
    "...\n"
   ]
  },
  {
   "cell_type": "code",
   "execution_count": null,
   "metadata": {},
   "outputs": [],
   "source": [
    "# def stream_power_solver_equilibrium(T_num,v,dt,dx,U, diff_tol = 1):\n"
   ]
  },
  {
   "cell_type": "code",
   "execution_count": null,
   "metadata": {},
   "outputs": [],
   "source": []
  },
  {
   "cell_type": "markdown",
   "metadata": {},
   "source": [
    "### Exercise 1: Parameter sensitivity\n",
    "\n",
    "Use the functions developed above to answer the following questions. \n",
    "Provide a clear and short explanation with figures demonstration your answer.\n",
    "\n",
    "\n",
    "* How do the steady-state profile (e.g., the elevation at the channel head) and the time till steady state of the river profile vary with $K$ and with the uplift rate $U$? To test test this vary $U$ between 0.5;1 and; 2 mm per year and $K$ between 1e-3,2e-3 and 4e-3.<br> *Note that adjusting values of $K$ requires adjusting time steps $dt$ which should be accounted for through the CFL condition.*\n",
    "\n",
    "* Now vary the length of the river profile and evaluate the dependence of the response time to the size of the river and its catchment.\n",
    "\n",
    "### Exercise 2: River response to varying tectonic forcing\n",
    "Simulate fluvial incision during 120k years. \n",
    "In a first run, double the uplift rate after 100kyr and run for 20k more years (from $U = 1 m/Myr$ to $U =2 m/Myr$). \n",
    "In a second run, halve the uplift rate after 100kyr and run for 20k more years (from $U = 1 m Myr$ to $U =0.5 m/Myr). \n",
    "Describe what you see and why. How does it look on a slope area graph? Is this conform your expectation based on the analytical solution for the slope at steady state? \n",
    "\n",
    "* Reset everything back to using the original parameter values. \n",
    "\n",
    "    * Simulate a river of 15 km \n",
    "    * Use spatial steps (dx) of 100 m \n",
    "    * Start with a river profile, similar to the one use for Niagara falls (river at 70m elevation except for base level, sitting at 0 m) \n",
    "    * Assume that discharge (A) is a power function of distance with an exponent of 1.5 $(A = x^{1.5})$. It would be unrealistic to have zero discharge at the upmost cell. To correct for this, represent discharge as  $A = x^{1.5} + dx$.\n",
    "    * Set the area exponent $m$ to 0.5 and the slope exponent $n$ to 1. \n",
    "    * Use of value of $5\\times10^{-4}$ 1/yr for $K$. \n"
   ]
  },
  {
   "cell_type": "code",
   "execution_count": null,
   "metadata": {},
   "outputs": [],
   "source": []
  },
  {
   "cell_type": "code",
   "execution_count": null,
   "metadata": {},
   "outputs": [],
   "source": []
  },
  {
   "cell_type": "markdown",
   "metadata": {},
   "source": [
    "## River incision topics:\n",
    "1. [A general solution for the advection equation](advection.ipynb)\n",
    "1. [Fluvial incision with the advection equation](fluvial_advection.ipynb)\n",
    "1. [Stream power law](stream_power_law.ipynb)"
   ]
  },
  {
   "cell_type": "code",
   "execution_count": null,
   "metadata": {},
   "outputs": [],
   "source": []
  }
 ],
 "metadata": {
  "kernelspec": {
   "display_name": "Python 3 (ipykernel)",
   "language": "python",
   "name": "python3"
  },
  "language_info": {
   "codemirror_mode": {
    "name": "ipython",
    "version": 3
   },
   "file_extension": ".py",
   "mimetype": "text/x-python",
   "name": "python",
   "nbconvert_exporter": "python",
   "pygments_lexer": "ipython3",
   "version": "3.11.3"
  }
 },
 "nbformat": 4,
 "nbformat_minor": 4
}
