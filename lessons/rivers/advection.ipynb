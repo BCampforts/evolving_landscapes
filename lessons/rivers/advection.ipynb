{
 "cells": [
  {
   "cell_type": "markdown",
   "metadata": {},
   "source": [
    "<a href=\"https://csdms.colorado.edu\"><img style=\"float: center; width: 75%\" src=\"https://raw.githubusercontent.com/BCampforts/evolving_landscapes/main/media/evolving_landscapes.png\"></a>"
   ]
  },
  {
   "cell_type": "markdown",
   "metadata": {},
   "source": [
    "# Advection \n",
    "\n",
    "## The equation\n",
    "In this notebook, we will solve the advection equation: \n",
    "$$  \\frac{\\partial z}{\\partial t} + v\\frac{\\partial z}{\\partial x} =0\\label{eq:1}\\tag{1} $$\n",
    "where $z$ is elevation, $x$ is horizontal distance (positive in the downslope direction) and $t$ is time and $v$ is velocity. \n",
    "\n",
    "## Advection? \n",
    "Advection is a transport mechanism of a substance or conserved property---temperature, moisture, aerosols---through the bulk motion of a fluid.\n",
    "\n",
    "The advection equation has an analytical solution (see below), so why discretize?\n",
    "Because not all forms of the analytical solution are known;\n",
    "in fact, most of the time, an analytical solution is not known,\n",
    "especially in the earth sciences, where sets of simultaneous, nonlinear, partial differential equations have to be solved.\n",
    "To solve such equations in a coupled system, numerical methods are required.\n",
    "\n",
    "In this notebook, we'll use a finite difference scheme based the simplest form of a truncated Taylor series expansion.\n",
    "While alternative methods are available to solve PDEs,\n",
    "many models in the geosciences use finite difference methods\n",
    "because of their conceptual simplicity and ease of coding"
   ]
  },
  {
   "cell_type": "markdown",
   "metadata": {},
   "source": [
    "### Solving the advection equation \n",
    "\n",
    "The advection PDE Eq. $\\ref{eq:1}$ above is a prototype of an **initial value problem**: The solution is obtained by using the known initial values and marching or advancing in time. The solution of this equation can be obtained directly from the initial conditions:\n",
    "\n",
    "$$ z(x,t) = z(x-vt,0) \\label{eq:2}\\tag{2}$$\n",
    "\n",
    "In the following we will discretize Eq. $\\ref{eq:1}$ using a first order, finite difference upwind scheme. \n",
    "\n",
    "All finite difference methods can be represented with a numerical stencil:\n",
    "\n",
    "<img src=\"./media/Stencil1.png\" style=\"width:3in;height:1in\" />\n",
    "\n",
    "For the upwind scheme in particular, we only need three nodes: \n",
    "<img src=\"./media/Stencil2.png\" style=\"width:3in;height:1.25in\" />\n",
    "\n",
    "**BUT** the nodes you need to consider depend on the sign of the velocity: \n",
    "<img src=\"./media/UpwindScheme.png\" style=\"width:6.5in;height:3.76in\" />\n",
    "\n",
    "If $v$ is positive, than the direction of the advected flow is from left to right along the $x$ axis. To capture such a positive flow, the upwind discretisation scheme uses the info from the neighboring node in the upwind direction, that is, the node to the left, indicated by $j-1$ on the sketch. In this case the the Finite Difference Equation (FDE) of Eq. $\\ref{eq:1}$ can be written as:\n",
    "\n",
    "$$\\frac{\\tilde{z}_j^{n+1} - \\tilde{z}_j^n}{\\Delta t} + v\n",
    "\\frac{\\tilde{z}_j^n - \\tilde{z}_{j-1}^n}{\\Delta x} = 0\n",
    "\\label{eq:3}\\tag{3}$$\n",
    "\n",
    "If however, the velocity is negative, the FDE becomes: \n",
    "\n",
    "$$\\frac{\\tilde{z}_j^{n+1} - \\tilde{z}_j^n}{\\Delta t} + v\n",
    "\\frac{\\tilde{z}_{j+1}^n - \\tilde{z}_j^n}{\\Delta x} = 0\n",
    "\\label{eq:4}\\tag{4}$$\n",
    "\n",
    "To obtain this equation, we have taken discrete values for $x$ and $t$: $x_j=j\\Delta x$, $t_n = n \\Delta t$. The solution of the finite difference equation is also defined at the discrete points ($j\\Delta x$,$n \\Delta t$): $\\tilde{z}_j^n=\\tilde{z}(j\\Delta x,n \\Delta t)$. Note that we used $z$ to denote the solution of the PDE\n",
    "(continuous) and $\\tilde{z}$ to denote the solution of the finite difference equation (FDE), a discrete solution. In the remainder of the notebook, we will use the symbol $C$ for both the analytical and numerical solution.\n"
   ]
  },
  {
   "cell_type": "markdown",
   "metadata": {},
   "source": [
    "## Numerical solutions\n",
    "\n",
    "In the following examples,\n",
    "we'll explore numerical solutions to the advection equation.\n",
    "\n",
    "We'll use NumPy for data and Matplotlib for visualization."
   ]
  },
  {
   "cell_type": "code",
   "execution_count": null,
   "metadata": {},
   "outputs": [],
   "source": [
    "#import python packages"
   ]
  },
  {
   "cell_type": "markdown",
   "metadata": {},
   "source": [
    "First, develop some code that will represent a perturbation of some quantity that can be advected.\n",
    "Here, we'll call it temperature,\n",
    "but it could be any other passive scalar, like concentration of a pollutant."
   ]
  },
  {
   "cell_type": "code",
   "execution_count": null,
   "metadata": {},
   "outputs": [],
   "source": [
    "# # Initialize constants\n",
    "# dx = 500  # spatial step (m)\n",
    "# wavelength = 5e4  # wavelength (m-1)\n",
    "# Lx = 25e4  # size of the domain (m)\n",
    "# amplitude = 5  # wave amplitude (K)\n",
    "\n",
    "# # Set up x-axis values\n",
    "# x = np.arange(start=0, stop=Lx, step=dx)\n",
    "\n",
    "# # Create truncated sine wave from x-axis values\n",
    "# b = x <= wavelength\n",
    "# c = x > wavelength\n",
    "# T = np.zeros_like(x)\n",
    "# T[b] = amplitude * np.sin(x[b] * 2 * np.pi / wavelength)\n",
    "# T[c] = 0\n",
    "\n",
    "# # Plot the graph\n",
    "# plt.figure()\n",
    "# plt.plot(x / 1.0e3, T, \"--k\")\n",
    "# plt.ylim((-6, 6))\n",
    "# plt.xlim((0, max(x / 1e3)))\n",
    "# plt.xlabel(\"x (km)\")\n",
    "# plt.ylabel(\"T (K)\")\n",
    "# plt.title(\"Temperature Perturbation\")\n",
    "# plt.show()"
   ]
  },
  {
   "cell_type": "markdown",
   "metadata": {},
   "source": [
    "Try modifying with the parameters (e.g., amplitude and wavelength) to better understand their meaning."
   ]
  },
  {
   "cell_type": "code",
   "execution_count": null,
   "metadata": {},
   "outputs": [],
   "source": []
  },
  {
   "cell_type": "markdown",
   "metadata": {},
   "source": [
    "### Upwind solution"
   ]
  },
  {
   "cell_type": "markdown",
   "metadata": {},
   "source": [
    "Now, lets solve the advection equation using the upwind FDE. You can use either `for` loops or vector operations (NumPy arrays) to iterate over the temperature vector in space. Start with the solution for positive velocity (that is, solve Eq. 3) and assume: \n",
    "\n",
    "- Wind speed `v = 10` m/s\n",
    "- Grid spacing `dx = 500` m (see previous code block)\n",
    "- Total model run duration = 3 hours\n",
    "- Calculate time step `dt` using the CFL criterion: `dt = 0.9 * v / dx`\n",
    "- Periodic boundary conditions: the solution at the left boundary depends on the solution at the right boundary if velocity is positive and vice versa for negative velocities. \n",
    "- Plot the wave every 10^5 iterations \n",
    "\n",
    "The structure of the code should look like this: \n",
    "\n",
    "~~~\n",
    "# Set parameter values\n",
    "v = \n",
    "run_duration = \n",
    "dt = \n",
    "\n",
    "# Initialize temperature array \n",
    "T = \n",
    "T[:] = \n",
    "\n",
    "# Calculate numerical solution\n",
    "iter = \n",
    "while iter*dt < total_time:\n",
    "    iter += 1\n",
    "    if v > 0:\n",
    "        # here comes the solution of the advection equation  \n",
    "    \n",
    "    if iter % 1e5 == 0: \n",
    "        plt.plot(x/1.e3, T, 'b') \n",
    "        plt.xlim((0, max(x/1e3)))\n",
    "        plt.xlabel('x (km)')\n",
    "        plt.ylabel('T (K)')\n",
    "        plt.title(\"Advection of Temperature Perturbation\")\n",
    "        plt.show()\n",
    "~~~"
   ]
  },
  {
   "cell_type": "code",
   "execution_count": null,
   "metadata": {},
   "outputs": [],
   "source": [
    "# Set parameter values"
   ]
  },
  {
   "cell_type": "code",
   "execution_count": null,
   "metadata": {},
   "outputs": [],
   "source": [
    "# Initialize temperature array"
   ]
  },
  {
   "cell_type": "code",
   "execution_count": null,
   "metadata": {},
   "outputs": [],
   "source": [
    "# Calculate numerical solution"
   ]
  },
  {
   "cell_type": "code",
   "execution_count": null,
   "metadata": {},
   "outputs": [],
   "source": [
    "### Downwind solution"
   ]
  },
  {
   "cell_type": "markdown",
   "metadata": {},
   "source": [
    "Now, set the wind speed $v$ to -10 m/s and calculate the advection equation for negative velocities using Eq. 4.\n",
    "Copy-paste your upwind solution and add the negative component to it.\n",
    "Don't forget to reset the temperature array before you start. "
   ]
  },
  {
   "cell_type": "code",
   "execution_count": null,
   "metadata": {},
   "outputs": [],
   "source": [
    "# Set parameter values\n"
   ]
  },
  {
   "cell_type": "code",
   "execution_count": null,
   "metadata": {},
   "outputs": [],
   "source": [
    "# Initialize temperature array\n"
   ]
  },
  {
   "cell_type": "code",
   "execution_count": null,
   "metadata": {},
   "outputs": [],
   "source": [
    "# Calculate numerical solution\n"
   ]
  },
  {
   "cell_type": "code",
   "execution_count": null,
   "metadata": {},
   "outputs": [],
   "source": [
    "### Analytical solution"
   ]
  },
  {
   "cell_type": "markdown",
   "metadata": {},
   "source": [
    "* In the following, make a function to solve numerical advection. Call it the advection_solver function.\n",
    "\n",
    "* Can you find an analytical solution for this problem? Use the [numpy roll function](https://numpy.org/doc/stable/reference/generated/numpy.roll.html). \n",
    "\n",
    "* Plot and compare with the numerical solution. What is going on here. What can we do to resolve this issue?"
   ]
  },
  {
   "cell_type": "code",
   "execution_count": null,
   "metadata": {},
   "outputs": [],
   "source": [
    "# Create and use advetion solver function\n",
    "# def advection_solver(...):\n",
    "#     ...\n",
    "#     return ..."
   ]
  },
  {
   "cell_type": "code",
   "execution_count": null,
   "metadata": {},
   "outputs": [],
   "source": []
  },
  {
   "cell_type": "markdown",
   "metadata": {},
   "source": [
    "## References\n",
    "\n",
    "Howard, A. D., Dietrich, W. E., & Seidl, M. A. (1994). Modeling fluvial erosion on regional to continental scales. Journal of Geophysical Research: Solid Earth, 99(B7), 13971-13986.\n",
    "\n",
    "Tucker, G. E., & Hancock, G. R. (2010). Modelling landscape evolution. Earth Surface Processes and Landforms, 35(1), 28–50. https://doi.org/10.1002/esp.1952\n",
    "\n",
    "Whipple, K. X., Hancock, G. S., & Anderson, R. S. (2000). River incision into bedrock: Mechanics and relative efficacy of plucking, abrasion, and cavitation. Geological Society of America Bulletin, 112(3), 490-503.\n",
    "\n",
    "Whipple, K. X., & Tucker, G. E. (1999). Dynamics of the stream‐power river incision model: Implications for height limits of mountain ranges, landscape response timescales, and research needs. Journal of Geophysical Research: Solid Earth, 104(B8), 17661-17674.\n"
   ]
  },
  {
   "cell_type": "markdown",
   "metadata": {},
   "source": [
    "## River incision topics:\n",
    "1. [A general solution for the advection equation](advection.ipynb)\n",
    "1. [Fluvial incision with the advection equation](fluvial_advection.ipynb)\n",
    "1. [Stream power law](stream_power_law.ipynb)"
   ]
  },
  {
   "cell_type": "code",
   "execution_count": null,
   "metadata": {},
   "outputs": [],
   "source": []
  }
 ],
 "metadata": {
  "kernelspec": {
   "display_name": "Python 3 (ipykernel)",
   "language": "python",
   "name": "python3"
  },
  "language_info": {
   "codemirror_mode": {
    "name": "ipython",
    "version": 3
   },
   "file_extension": ".py",
   "mimetype": "text/x-python",
   "name": "python",
   "nbconvert_exporter": "python",
   "pygments_lexer": "ipython3",
   "version": "3.11.3"
  }
 },
 "nbformat": 4,
 "nbformat_minor": 4
}
