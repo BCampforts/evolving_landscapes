{
 "cells": [
  {
   "cell_type": "markdown",
   "metadata": {},
   "source": [
    "<a href=\"https://csdms.colorado.edu\"><img style=\"float: center; width: 75%\" src=\"./media/niag.png\"></a>"
   ]
  },
  {
   "cell_type": "markdown",
   "metadata": {},
   "source": [
    "# River incision\n",
    "\n",
    "As a first example, we will apply the advection equation to simulate the evolution of Niagara falls after the retreat of the laurentide ice-sheet. Note that general-style knickpoint retreat is well casted with an advection equation but that specific processes causing waterfalls to retreat (such as plunge pool erosion) are not represented. If you want to learn more on the Niagara escarpment, check out [this webinar](https://www.youtube.com/watch?v=Az7utk0h3Ek). "
   ]
  },
  {
   "cell_type": "markdown",
   "metadata": {},
   "source": [
    "## Simulation is approximation \n",
    "Every model makes some simplifications. That's what we will do here. \n",
    "Create a fluvial profile with a length of 15000m (15 km). All elevations can be set to 75m exept the last cell, which is the baselevel at the escarpment and can be set at 0m. Plot the shape of the initial river profile and the knickpoint."
   ]
  },
  {
   "cell_type": "code",
   "execution_count": null,
   "metadata": {},
   "outputs": [],
   "source": []
  },
  {
   "cell_type": "markdown",
   "metadata": {},
   "source": [
    "Now assume you are right after the retreate of the Laurentide ice sheet 10000 years ago. Advance the knickpoint in time using the numerical advection scheme as developed in the [advection notebook](advection.ipynb). You can assume an average wave speed, or knickpoint retreat rate, of 1m/year and run the solution for 10000 years. The right boundary condition can be set and fixed to zero throughout the run. Note that the incision wave is running from right to left. What sign is the velocity?\n",
    "Finally compare the numerical solution with the analytical one. What do you see and why is there a difference? \n",
    "* Develop a function to calculate the advection speed (call it e.g. 'advection_solver')"
   ]
  },
  {
   "cell_type": "code",
   "execution_count": 4,
   "metadata": {},
   "outputs": [],
   "source": [
    "import numpy as np\n",
    "from matplotlib import pyplot as plt"
   ]
  },
  {
   "cell_type": "code",
   "execution_count": 5,
   "metadata": {},
   "outputs": [],
   "source": [
    "def advection_solver(T_num,v,dt,dx,run_duration):\n",
    "    iter = 0\n",
    "    #Numerical solution \n",
    "    while iter * dt < run_duration:\n",
    "        iter += 1\n",
    "        if v > 0:\n",
    "            T_num[1:] -= v * dt / dx * (T_num[1:]-T_num[:-1])\n",
    "            T_num[0] = 0\n",
    "        elif v < 0:\n",
    "            T_num[:-1] -= v * dt / dx * (T_num[1:]-T_num[:-1])\n",
    "            T_num[-1] = 0\n",
    "    return T_num"
   ]
  },
  {
   "cell_type": "code",
   "execution_count": 6,
   "metadata": {},
   "outputs": [
    {
     "name": "stdout",
     "output_type": "stream",
     "text": [
      "151\n"
     ]
    },
    {
     "data": {
      "text/plain": [
       "[<matplotlib.lines.Line2D at 0x130356a50>]"
      ]
     },
     "execution_count": 6,
     "metadata": {},
     "output_type": "execute_result"
    },
    {
     "data": {
      "image/png": "[encoded data removed]",
      "text/plain": [
       "<Figure size 640x480 with 1 Axes>"
      ]
     },
     "metadata": {},
     "output_type": "display_data"
    }
   ],
   "source": [
    "nb_cells = 151\n",
    "L = 15000\n",
    "x=np.linspace(0,15000,nb_cells)\n",
    "z=np.ones(nb_cells)*70\n",
    "z[-1]= 0\n",
    "plt.plot(x,z)\n",
    "print(len(x))\n",
    "v = -1\n",
    "dt = 90\n",
    "dx = L / (nb_cells-1)\n",
    "run_duration = 10000\n",
    "z_num = advection_solver(z,v,dt,dx,run_duration)\n",
    "plt.plot(x,z_num)"
   ]
  },
  {
   "cell_type": "markdown",
   "metadata": {},
   "source": [
    "What happens if we incease the timestep to 200 year? Describe what is going on and explain the mathematical formula we can use to controll for this kind of irregularities. "
   ]
  },
  {
   "cell_type": "code",
   "execution_count": null,
   "metadata": {},
   "outputs": [],
   "source": []
  }
 ],
 "metadata": {
  "kernelspec": {
   "display_name": "Python 3 (ipykernel)",
   "language": "python",
   "name": "python3"
  },
  "language_info": {
   "codemirror_mode": {
    "name": "ipython",
    "version": 3
   },
   "file_extension": ".py",
   "mimetype": "text/x-python",
   "name": "python",
   "nbconvert_exporter": "python",
   "pygments_lexer": "ipython3",
   "version": "3.11.3"
  }
 },
 "nbformat": 4,
 "nbformat_minor": 4
}
