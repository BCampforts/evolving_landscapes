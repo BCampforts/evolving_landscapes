{
 "cells": [
  {
   "cell_type": "markdown",
   "metadata": {},
   "source": [
    "<a href=\"https://csdms.colorado.edu\"><img style=\"float: center; width: 75%\" src=\"./media/niag.png\"></a>"
   ]
  },
  {
   "cell_type": "markdown",
   "metadata": {},
   "source": [
    "# River incision\n",
    "\n",
    "As a first example, we will apply the advection equation to simulate the evolution of Niagara falls after the retreat of the Laurentide ice-sheet. Note that general-style knickpoint retreat is well casted with an advection equation but that specific processes causing waterfalls to retreat (such as plunge pool erosion) are not represented. If you want to learn more on the Niagara escarpment, check out [this webinar](https://www.youtube.com/watch?v=Az7utk0h3Ek). "
   ]
  },
  {
   "cell_type": "markdown",
   "metadata": {},
   "source": [
    "## Simulation is approximation \n",
    "Every model makes some simplifications. That's what we will do here. \n",
    "Create a fluvial profile with a length of 15000m (15 km). All elevations can be set to 75m except the last cell, which is the baselevel at the escarpment and can be set at 0m. Plot the shape of the initial river profile and the knickpoint."
   ]
  },
  {
   "cell_type": "code",
   "execution_count": null,
   "metadata": {},
   "outputs": [],
   "source": [
    "# Import pyhton packages\n"
   ]
  },
  {
   "cell_type": "code",
   "execution_count": null,
   "metadata": {},
   "outputs": [],
   "source": [
    "# nb_cells = \n",
    "# L = \n",
    "# x=np.linspace(...,...,nb_cells)\n",
    "# z=np.ones(nb_cells)*...\n",
    "# z[-1]= 0\n",
    "# plt.plot(x,z,label='Initial elevation')"
   ]
  },
  {
   "cell_type": "markdown",
   "metadata": {},
   "source": [
    "Now assume you are right after the retreat of the Laurentide ice sheet 10000 years ago. Advance the knickpoint in time using the numerical advection solver as developed in the [advection notebook](advection.ipynb). You can assume an average wave speed, or knickpoint retreat rate, of 1m/year and run the solution for 10000 years. The outlet of the channel (boundary condition on the right) can be set and fixed to zero throughout the run. Note that the incision wave is running from right to left. What sign is the velocity?"
   ]
  },
  {
   "cell_type": "code",
   "execution_count": null,
   "metadata": {},
   "outputs": [],
   "source": [
    "# Import python packages"
   ]
  },
  {
   "cell_type": "code",
   "execution_count": null,
   "metadata": {},
   "outputs": [],
   "source": [
    "#solver"
   ]
  },
  {
   "cell_type": "code",
   "execution_count": null,
   "metadata": {},
   "outputs": [],
   "source": [
    "#solution"
   ]
  },
  {
   "cell_type": "markdown",
   "metadata": {},
   "source": [
    "* How far did the knickpoint retreat, is this what you expected?"
   ]
  },
  {
   "cell_type": "code",
   "execution_count": null,
   "metadata": {},
   "outputs": [],
   "source": []
  },
  {
   "cell_type": "markdown",
   "metadata": {},
   "source": [
    "## Compare to the analytical solution \n",
    "\n",
    "* Can you calculate an analytical solution for this case? <br>*Note: the solution from the advection notebook will not work because of fixed boundary conditions in this case (see class)*\n",
    "* What happens if we increase the time step to 200 year? Redo the numerical simulation. Describe what is going on and explain the mathematical formula we can use to control for this kind of irregularities (we developed this equation in the advection notebook). \n",
    "* What is the maximum stable timestep? \n"
   ]
  },
  {
   "cell_type": "code",
   "execution_count": null,
   "metadata": {},
   "outputs": [],
   "source": [
    "# Calculate analytical solution\n"
   ]
  },
  {
   "cell_type": "markdown",
   "metadata": {},
   "source": [
    "## Fluvial incision\n",
    "\n",
    "Is the kind of incision we simulated realistic in the field? In which cases is it, in which is it not. Build up our argument assuming that fluvial incision into bedrock can be simulated using the stream power law."
   ]
  },
  {
   "cell_type": "markdown",
   "metadata": {},
   "source": []
  },
  {
   "cell_type": "markdown",
   "metadata": {},
   "source": [
    "## River incision topics:\n",
    "1. [A general solution for the advection equation](advection.ipynb)\n",
    "1. [Fluvial incision with the advection equation](fluvial_advection.ipynb)\n",
    "1. [Stream power law](stream_power_law.ipynb)"
   ]
  },
  {
   "cell_type": "code",
   "execution_count": null,
   "metadata": {},
   "outputs": [],
   "source": []
  }
 ],
 "metadata": {
  "kernelspec": {
   "display_name": "Python 3 (ipykernel)",
   "language": "python",
   "name": "python3"
  },
  "language_info": {
   "codemirror_mode": {
    "name": "ipython",
    "version": 3
   },
   "file_extension": ".py",
   "mimetype": "text/x-python",
   "name": "python",
   "nbconvert_exporter": "python",
   "pygments_lexer": "ipython3",
   "version": "3.11.3"
  }
 },
 "nbformat": 4,
 "nbformat_minor": 4
}
